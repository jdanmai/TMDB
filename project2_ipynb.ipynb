{
 "cells": [
  {
   "cell_type": "markdown",
   "metadata": {},
   "source": [
    "\n",
    "<h1 id=\"Project:-TMDb-Data-Analysis\">Project: TMDb Data Analysis<a class=\"anchor-link\" href=\"#Project:-TMDb-Data-Analysis\">¶</a></h1><h2 id=\"Table-of-Contents\">Table of Contents<a class=\"anchor-link\" href=\"#Table-of-Contents\">¶</a></h2><p></p><li><a href=\"#intro\">Introduction</a></li>\n",
    "<p></p><li><a href=\"#wrangling\">Data Wrangling</a></li>\n",
    "<p></p><li><a href=\"#eda\">Exploratory Data Analysis</a></li>\n",
    "<p></p><li><a href=\"#conclusions\">Conclusions</a></li>\n",
    "&lt;/ul&gt;\n",
    "\n"
   ]
  },
  {
   "cell_type": "markdown",
   "metadata": {},
   "source": [
    "\n",
    "<p><a id=\"intro\"></a></p>\n",
    "<h2 id=\"Introduction\">Introduction<a class=\"anchor-link\" href=\"#Introduction\">¶</a></h2><blockquote><p><strong>Tip</strong>: In this data analysis, we will be looking at information about 10K movies from the Movie Database (TMDb). We are looking at which genres were most popular from year to year and exploring the relationship between the popularity of a film and it's vote average score</p>\n",
    "</blockquote>\n",
    "<p>Dataset analyzed: TMDb Data</p>\n",
    "<p>Questions to explore: Which genres were most popular throughout the years? Is there a correlation between popularity and vote average score of a film?</p>\n"
   ]
  },
  {
   "cell_type": "code",
   "execution_count": null,
   "metadata": {},
   "outputs": [],
   "source": [
    "\n",
    "# Use this cell to set up import statements for all of the packages that you\n",
    "#   plan to use.\n",
    "import pandas as pd\n",
    "import numpy as np\n",
    "import matplotlib.pyplot as plt\n",
    "import seaborn as sns\n",
    "%matplotlib inline\n",
    "\n",
    "# Remember to include a 'magic word' so that your visualizations are plotted\n",
    "#   inline with the notebook. See this page for more:\n",
    "#   http://ipython.readthedocs.io/en/stable/interactive/magics.html\n",
    "\n"
   ]
  },
  {
   "cell_type": "markdown",
   "metadata": {},
   "source": [
    "\n",
    "<p><a id=\"wrangling\"></a></p>\n",
    "<h2 id=\"Data-Wrangling\">Data Wrangling<a class=\"anchor-link\" href=\"#Data-Wrangling\">¶</a></h2><blockquote><p><strong>Tip</strong>: In this section of the report, you will load in the data, check for cleanliness, and then trim and clean your dataset for analysis. Make sure that you document your steps carefully and justify your cleaning decisions.</p>\n",
    "</blockquote>\n",
    "<h3 id=\"General-Properties\">General Properties<a class=\"anchor-link\" href=\"#General-Properties\">¶</a></h3>\n"
   ]
  },
  {
   "cell_type": "code",
   "execution_count": null,
   "metadata": {},
   "outputs": [],
   "source": [
    "\n",
    "df= pd.read_csv('tmdb_movies.csv', sep=',')\n",
    "df.head()\n",
    "\n"
   ]
  },
  {
   "cell_type": "code",
   "execution_count": null,
   "metadata": {},
   "outputs": [],
   "source": [
    "\n",
    "df.info()\n",
    "\n"
   ]
  },
  {
   "cell_type": "code",
   "execution_count": null,
   "metadata": {},
   "outputs": [],
   "source": [
    "\n",
    "#drop columns not needed\n",
    "df.drop(['imdb_id', 'id', 'budget', 'revenue', 'homepage', 'tagline', 'keywords', 'overview', 'production_companies', 'release_date'], axis=1, inplace=True)\n",
    "\n"
   ]
  },
  {
   "cell_type": "code",
   "execution_count": null,
   "metadata": {},
   "outputs": [],
   "source": [
    "\n",
    "#check that this is correct\n",
    "df.head()\n",
    "\n"
   ]
  },
  {
   "cell_type": "code",
   "execution_count": null,
   "metadata": {},
   "outputs": [],
   "source": [
    "\n",
    "df.info()\n",
    "\n"
   ]
  },
  {
   "cell_type": "code",
   "execution_count": null,
   "metadata": {},
   "outputs": [],
   "source": [
    "\n",
    "#drop all 'missing values' rows\n",
    "df.dropna(inplace=True)\n",
    "df.info()\n",
    "\n"
   ]
  },
  {
   "cell_type": "code",
   "execution_count": null,
   "metadata": {},
   "outputs": [],
   "source": [
    "\n",
    "df.describe()\n",
    "\n"
   ]
  },
  {
   "cell_type": "code",
   "execution_count": null,
   "metadata": {},
   "outputs": [],
   "source": [
    "\n",
    "#all unique values in genres\n",
    "df.genres.unique()\n",
    "\n"
   ]
  },
  {
   "cell_type": "code",
   "execution_count": null,
   "metadata": {},
   "outputs": [],
   "source": [
    "\n",
    "#create new DF from the series with original_title as index; splitting up genres sep by pipes\n",
    "new_df = pd.DataFrame(df.genres.str.split('|').tolist(), index=df.original_title).stack()\n",
    "\n"
   ]
  },
  {
   "cell_type": "code",
   "execution_count": null,
   "metadata": {},
   "outputs": [],
   "source": [
    "\n",
    "# We now want to get rid of the secondary index\n",
    "# To do this, we will make original_title as a column (it can't be an index since the values will be duplicate)\n",
    "new_df = new_df.reset_index([0, 'original_title'])\n",
    "new_df.columns = ['original_title', 'mgenres']\n",
    "new_df.head(5)\n",
    "\n"
   ]
  },
  {
   "cell_type": "code",
   "execution_count": null,
   "metadata": {},
   "outputs": [],
   "source": [
    "\n",
    "#combine the new_df with the original df\n",
    "\n",
    "genres_df= pd.merge(df, new_df, on='original_title')\n",
    "genres_df.head(5)\n",
    "\n"
   ]
  },
  {
   "cell_type": "code",
   "execution_count": null,
   "metadata": {},
   "outputs": [],
   "source": [
    "\n",
    "#drop the old genres column and check\n",
    "\n",
    "genres_df.drop(['genres'], axis=1, inplace=True)\n",
    "\n",
    "genres_df.head(5)\n",
    "\n"
   ]
  },
  {
   "cell_type": "code",
   "execution_count": null,
   "metadata": {},
   "outputs": [],
   "source": [
    "\n",
    "genres_df.plot(x='release_year',y='popularity', kind='scatter' );\n",
    "plt.title('Popularity by Release Year')\n",
    "plt.xlabel('Release Year')\n",
    "plt.ylabel('Popularity')\n",
    "\n"
   ]
  },
  {
   "cell_type": "code",
   "execution_count": null,
   "metadata": {},
   "outputs": [],
   "source": [
    "\n",
    "genres_df.plot(x='release_year',y='vote_average', kind='scatter');\n",
    "plt.title('Vote Average by Release Year')\n",
    "plt.xlabel('Release Year')\n",
    "plt.ylabel('Vote Average')\n",
    "\n"
   ]
  },
  {
   "cell_type": "code",
   "execution_count": null,
   "metadata": {},
   "outputs": [],
   "source": [
    "\n",
    "#check datatype\n",
    "type(genres_df['popularity'][0])\n",
    "\n"
   ]
  },
  {
   "cell_type": "code",
   "execution_count": null,
   "metadata": {},
   "outputs": [],
   "source": [
    "\n",
    "# convert popularity from float to int\n",
    "genres_df['popularity'] = genres_df['popularity'].astype(int)\n",
    "\n",
    "#check datatype\n",
    "type(genres_df['popularity'][0])\n",
    "\n"
   ]
  },
  {
   "cell_type": "code",
   "execution_count": null,
   "metadata": {},
   "outputs": [],
   "source": [
    "\n",
    "# convert popularity from float to int\n",
    "genres_df['vote_average'] = genres_df['vote_average'].astype(int)\n",
    "\n",
    "#check datatype\n",
    "type(genres_df['vote_average'][0])\n",
    "\n"
   ]
  },
  {
   "cell_type": "code",
   "execution_count": null,
   "metadata": {},
   "outputs": [],
   "source": [
    "\n",
    "#find the mean popularity score of each genre type with groupby\n",
    "genres_df.groupby('mgenres').mean().popularity\n",
    "\n"
   ]
  },
  {
   "cell_type": "code",
   "execution_count": null,
   "metadata": {},
   "outputs": [],
   "source": [
    "\n",
    "#find the 25%, 50%, 75%, and max popularity values with Pandas describe\n",
    "genres_df.describe().popularity\n",
    "\n"
   ]
  },
  {
   "cell_type": "code",
   "execution_count": null,
   "metadata": {},
   "outputs": [],
   "source": [
    "\n",
    "#top films grouped by genres and popularity means, sorting by top 5\n",
    "topfilms_df = genres_df.groupby('mgenres')['popularity'].mean().sort_values().tail(5)\n",
    "\n"
   ]
  },
  {
   "cell_type": "code",
   "execution_count": null,
   "metadata": {},
   "outputs": [],
   "source": [
    "\n",
    "topfilms_df.plot(kind= 'bar', color='#3caea3')\n",
    "plt.title('Top Genres over Time')\n",
    "plt.xlabel('Genres')\n",
    "plt.ylabel('Popularity')\n",
    "\n"
   ]
  },
  {
   "cell_type": "code",
   "execution_count": null,
   "metadata": {},
   "outputs": [],
   "source": [
    "\n",
    "#top rated films grouped by genres and popularity means\n",
    "rated_df = genres_df.groupby('vote_average')['popularity'].mean().sort_values()\n",
    "rated_df\n",
    "\n"
   ]
  },
  {
   "cell_type": "code",
   "execution_count": null,
   "metadata": {},
   "outputs": [],
   "source": [
    "\n",
    "genres_df.plot(x='vote_average',y='popularity', kind='scatter');\n",
    "plt.title('Vote Average Correlation with Popularity')\n",
    "plt.xlabel('Vote Average')\n",
    "plt.ylabel('Popularity')\n",
    "\n"
   ]
  },
  {
   "cell_type": "code",
   "execution_count": null,
   "metadata": {},
   "outputs": [],
   "source": [
    "\n",
    "np.corrcoef(genres_df.vote_average, genres_df.popularity)\n",
    "\n"
   ]
  },
  {
   "cell_type": "markdown",
   "metadata": {},
   "source": [
    "\n",
    "<p><a id=\"eda\"></a></p>\n",
    "<h2 id=\"Exploratory-Data-Analysis\">Exploratory Data Analysis<a class=\"anchor-link\" href=\"#Exploratory-Data-Analysis\">¶</a></h2><blockquote><p><strong>Tip</strong>: Now that you've trimmed and cleaned your data, you're ready to move on to exploration. Compute statistics and create visualizations with the goal of addressing the research questions that you posed in the Introduction section. It is recommended that you be systematic with your approach. Look at one variable at a time, and then follow it up by looking at relationships between variables.</p>\n",
    "</blockquote>\n",
    "<h3 id=\"Research-Question-1--What-genres-were-most-popular-over-the-years?\">Research Question 1- What genres were most popular over the years?<a class=\"anchor-link\" href=\"#Research-Question-1--What-genres-were-most-popular-over-the-years?\">¶</a></h3>\n"
   ]
  },
  {
   "cell_type": "markdown",
   "metadata": {},
   "source": [
    "\n",
    "<h4 id=\"1.-Separate-the-genres-from-the-genres-column-into-a-new-column,-mgenres\">1. Separate the genres from the genres column into a new column, mgenres<a class=\"anchor-link\" href=\"#1.-Separate-the-genres-from-the-genres-column-into-a-new-column,-mgenres\">¶</a></h4><p>create new DF from the series with original_title as index; splitting up genres sep by pipes-</p>\n",
    "<pre><code>new_df = pd.DataFrame(df.genres.str.split('|').tolist(), index=df.original_title).stack()  </code></pre>\n"
   ]
  },
  {
   "cell_type": "markdown",
   "metadata": {},
   "source": [
    "\n",
    "<p>We now want to get rid of the secondary index\n",
    "To do this, we will make original_title as a column (it can't be an index since the values will be duplicate)</p>\n",
    "<pre><code>new_df = new_df.reset_index([0, 'original_title'])\n",
    "new_df.columns = ['original_title', 'mgenres']\n",
    "new_df.head(5)</code></pre>\n"
   ]
  },
  {
   "cell_type": "markdown",
   "metadata": {},
   "source": [
    "\n",
    "<p>combine the new_df with the original df</p>\n",
    "<pre><code>genres_df= pd.merge(df, new_df, on='original_title')\n",
    "genres_df.head(5)</code></pre>\n"
   ]
  },
  {
   "cell_type": "markdown",
   "metadata": {},
   "source": [
    "\n",
    "<p>Drop the old genres column and check</p>\n",
    "<pre><code>genres_df.drop(['genres'], axis=1, inplace=True)\n",
    "\n",
    "genres_df.head(5)</code></pre>\n"
   ]
  },
  {
   "cell_type": "markdown",
   "metadata": {},
   "source": [
    "\n",
    "<p>find the mean popularity score of each genre type with groupby</p>\n",
    "<pre><code>genres_df.groupby('mgenres').mean().popularity</code></pre>\n"
   ]
  },
  {
   "cell_type": "markdown",
   "metadata": {},
   "source": [
    "\n",
    "<p>top films grouped by genres and popularity means, sorting by top 5</p>\n",
    "<pre><code>topfilms_df = genres_df.groupby('mgenres')['popularity'].mean().sort_values().tail(5)</code></pre>\n"
   ]
  },
  {
   "cell_type": "markdown",
   "metadata": {},
   "source": [
    "\n",
    "<p>plot/visualize top 5 genres by popularity score</p>\n"
   ]
  },
  {
   "cell_type": "code",
   "execution_count": null,
   "metadata": {},
   "outputs": [],
   "source": [
    "\n",
    "topfilms_df.plot(kind= 'bar', color='#3caea3')\n",
    "plt.title('Top Genres over Time')\n",
    "plt.xlabel('Genres')\n",
    "plt.ylabel('Popularity')\n",
    "\n"
   ]
  },
  {
   "cell_type": "markdown",
   "metadata": {},
   "source": [
    "\n",
    "<h3 id=\"Research-Question-2--Does-the-Popularity-of-a-movie-correlate-with-the-Vote-Score-Average?\">Research Question 2- Does the Popularity of a movie correlate with the Vote Score Average?<a class=\"anchor-link\" href=\"#Research-Question-2--Does-the-Popularity-of-a-movie-correlate-with-the-Vote-Score-Average?\">¶</a></h3>\n"
   ]
  },
  {
   "cell_type": "markdown",
   "metadata": {},
   "source": [
    "\n",
    "<p>top rated films grouped by vote average and popularity means</p>\n",
    "<pre><code>rated_df = genres_df.groupby('vote_average')['popularity'].mean().sort_values()\n",
    "rated_df</code></pre>\n"
   ]
  },
  {
   "cell_type": "markdown",
   "metadata": {},
   "source": [
    "\n",
    "<p>Plot the relationship between Vote Average and Popularity</p>\n",
    "<pre><code>genres_df.plot(x='vote_average',y='popularity', kind='scatter');</code></pre>\n"
   ]
  },
  {
   "cell_type": "code",
   "execution_count": null,
   "metadata": {},
   "outputs": [],
   "source": [
    "\n",
    "genres_df.plot(x='vote_average',y='popularity', kind='scatter');\n",
    "plt.title('Vote Average Correlation with Popularity')\n",
    "plt.xlabel('Vote Average')\n",
    "plt.ylabel('Popularity')\n",
    "\n"
   ]
  },
  {
   "cell_type": "markdown",
   "metadata": {},
   "source": [
    "\n",
    "<p>Find the correlation</p>\n"
   ]
  },
  {
   "cell_type": "code",
   "execution_count": null,
   "metadata": {},
   "outputs": [],
   "source": [
    "\n",
    "np.corrcoef(genres_df.vote_average, genres_df.popularity)\n",
    "\n"
   ]
  },
  {
   "cell_type": "markdown",
   "metadata": {},
   "source": [
    "\n",
    "<p><a id=\"conclusions\"></a></p>\n",
    "<h2 id=\"Conclusions\">Conclusions<a class=\"anchor-link\" href=\"#Conclusions\">¶</a></h2>\n"
   ]
  },
  {
   "cell_type": "markdown",
   "metadata": {},
   "source": [
    "\n",
    "<p>There were some limitations/challenges to these conclusions which may make these findings not conclusive.</p>\n",
    "<pre><code>1) Missing data\n",
    "    All rows with missing data in Cast, Director, and Genres were dropped\n",
    "2) Vote counts were, for the most part, on the lower count side- which likely skewed results\n",
    "    Older titles had much less votes since IMDb was not as widely used (or existed)\n",
    "    Titles in more recent years had a lot more data</code></pre>\n"
   ]
  },
  {
   "cell_type": "markdown",
   "metadata": {},
   "source": [
    "\n",
    "<p>The top 5 genres over the years are</p>\n",
    "<pre><code>1) Adventure\n",
    "2) Science Fiction\n",
    "3) Fantasy\n",
    "4) Action\n",
    "5) Animation</code></pre>\n"
   ]
  },
  {
   "cell_type": "markdown",
   "metadata": {},
   "source": [
    "\n",
    "<p>There was a weak positive correlation between a film's popularity and the average score it gets</p>\n"
   ]
  }
 ],
 "metadata": {
  "kernelspec": {
   "display_name": "Python 3",
   "language": "python",
   "name": "python3"
  },
  "language_info": {
   "codemirror_mode": {
    "name": "ipython",
    "version": 3
   },
   "file_extension": ".py",
   "mimetype": "text/x-python",
   "name": "python",
   "nbconvert_exporter": "python",
   "pygments_lexer": "ipython3",
   "version": "3.7.3"
  }
 },
 "nbformat": 4,
 "nbformat_minor": 1
}
